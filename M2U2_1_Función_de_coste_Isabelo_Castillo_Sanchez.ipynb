{
  "cells": [
    {
      "cell_type": "markdown",
      "metadata": {
        "id": "view-in-github",
        "colab_type": "text"
      },
      "source": [
        "<a href=\"https://colab.research.google.com/github/IsabeloCastillo/Regresion-lineal-multivariable-Funcion-de-coste/blob/main/M2U2_1_Funci%C3%B3n_de_coste_Isabelo_Castillo_Sanchez.ipynb\" target=\"_parent\"><img src=\"https://colab.research.google.com/assets/colab-badge.svg\" alt=\"Open In Colab\"/></a>"
      ]
    },
    {
      "cell_type": "markdown",
      "id": "afa5ce9e-a97f-4c44-99b9-a7b8adc6ef2d",
      "metadata": {
        "id": "afa5ce9e-a97f-4c44-99b9-a7b8adc6ef2d"
      },
      "source": [
        "# Regresión lineal multivariable: Función de coste\n",
        "M2U2 - Ejercicio 1\n",
        "\n",
        "## ¿Qué vamos a hacer?\n",
        "- Implementar la función de coste para regresión lineal multivariable\n",
        "\n",
        "Recuerda seguir las instrucciones para las entregas de prácticas indicadas en [Instrucciones entregas](https://github.com/Tokio-School/Machine-Learning/blob/main/Instrucciones%20entregas.md)."
      ]
    },
    {
      "cell_type": "code",
      "execution_count": null,
      "id": "5ea635e5-42ec-4c2c-87cc-005f88c517cc",
      "metadata": {
        "id": "5ea635e5-42ec-4c2c-87cc-005f88c517cc"
      },
      "outputs": [],
      "source": [
        "import numpy as np"
      ]
    },
    {
      "cell_type": "markdown",
      "id": "4842b324-770d-4c7d-9c56-d5288d9532ee",
      "metadata": {
        "id": "4842b324-770d-4c7d-9c56-d5288d9532ee"
      },
      "source": [
        "## Tarea 1: Implementar la función de coste para regresión lineal multivariable no vectorizada\n",
        "\n",
        "En esta tarea, debes implementar la función de coste para regresión lineal multivariable en Python. La función de coste debe seguir la función incluida en las diapositvas y en el manual del curso.\n",
        "\n",
        "Para ello, primero rellena el código de la siguiente celda para implementar la función de coste no vectorizada.\n",
        "\n",
        "Las diferencias entre una implementación vectorizada y no vectorizada son las siguientes:\n",
        "- La vectorizada utiliza operaciones de álgebra lineal, de operaciones entre vectores/matrices.\n",
        "- La no vectorizada se implementa con bucles de control for en Python, iterando entre las secuencias/listas de elementos uno a uno.\n",
        "- La vectorizada utiliza Numpy, sus arrays ndarray y operaciones como np.matmul().\n",
        "- La no vectorizada es menos eficiente, ya que no utiliza los métodos numéricos de Numpy sobre operaciones de C++.\n",
        "- Sin embargo, la no vectorizada es bastante más sencilla de comprender en un primer momento, al ser Python puro, sin depender de otras funciones y dimensiones de vectores.\n",
        "\n",
        "Recuerda la ecuación:\n",
        "\n",
        "$$Y = h_\\Theta(X) = X \\times \\Theta^T$$\n",
        "\n",
        "$$J_\\theta = \\frac{1}{2m} \\sum_{i = 0}^{m} (h_\\theta(x^i) - y^i)^2$$\n",
        "\n",
        "Para implementarla, sigue estos pasos:\n",
        "1. Tómate un tiempo para revisar la ecuación y asegúrate que comprendes todas las operaciones matemáticas reflejadas en ella\n",
        "1. Vuelve a ejercicios anteriores o revisa las diapositivas y anota en una hoja de papel (o celda auxiliar) las dimensiones de cada vector o matriz de la ecuación\n",
        "1. Anota en dicho papel o celda auxiliar las operaciones de álgebra lineal paso a paso\n",
        "    1. Comienza por sustituir $h_{\\theta}$ en la 2ª ecuación por su valor de la 1ª\n",
        "    1. La primera operación es hallar la $h_{\\theta}$ o Y predicha para cada fila de X (multiplicándola por $\\Theta$)\n",
        "    1. La 2ª, restarle el valor de Y para dicho ejemplo/fila de X, hayando su residuo\n",
        "    1. Luego elevar al cuadrado el resultado\n",
        "    1. A continuación, sumar todos los cuadrados de los residuos para todos los ejemplos/filas de X\n",
        "    1. Por último, dividirlos por 2 * m\n",
        "1. Anota al lado de cada paso las dimensiones que debería tener su resultado. Recuerda que el resultado final de la función de coste es un escalar o número\n",
        "1. Por último, piensa cómo iterar con bucles for por cada valor de X, $\\Theta$ e Y para implementar la función de coste:\n",
        "    1. Implementa la fórmula usando únicamente bucles for y la función sum() de la librería estándar de Python, sin usar métodos ni operadores de Numpy\n",
        "    1. Itera por todas las filas o ejemplos de X (m filas)\n",
        "    1. Dentro de dicho bucle, itera por las características o valores de X y $\\Theta$ para calcular la Y predicha para dicho ejemplo\n",
        "    1. Una vez hallados todos los residuos, halla el coste total\n",
        "\n",
        "*Notas:*\n",
        "- Los pasos mencionados son sólo una guía, una ayuda. En cada ejercicio, implementa tu código a tu manera, con el planteamiento que prefieras, utilizando el esquema de código de la celda o no\n",
        "- No te preocupes demasiado por ahora por saber si funciona correctamente o no, puesto que en la siguiente tarea la comprobaremos. Si hubiera algún error, puedes volver a esta celda para corregir tu código."
      ]
    },
    {
      "cell_type": "markdown",
      "id": "19d6d704",
      "metadata": {
        "id": "19d6d704"
      },
      "source": [
        "# AQUI EMPEZAMOS CON LA TAREA 1 DEL EJERCICIO 1"
      ]
    },
    {
      "cell_type": "markdown",
      "id": "f0bd5ee9",
      "metadata": {
        "id": "f0bd5ee9"
      },
      "source": [
        "### Paso 1: Estructura Básica de la Función\n",
        "\n",
        "Este código establece la estructura básica de la función `cost_function_non_vectorized`:\n",
        "\n",
        "- Define la función con los parámetros `x`, `y`, y `theta`.\n",
        "- Inicializa `m` para almacenar el número de ejemplos de entrenamiento.\n",
        "- Inicializa `total_error` para acumular el error total durante el cálculo.\n",
        "- Prepara la función para retornar el valor promedio del error (coste) al final."
      ]
    },
    {
      "cell_type": "code",
      "execution_count": null,
      "id": "21b77334",
      "metadata": {
        "colab": {
          "base_uri": "https://localhost:8080/"
        },
        "id": "21b77334",
        "outputId": "8d3af820-8b00-4c75-fcbb-e35e1d4afd18"
      },
      "outputs": [
        {
          "output_type": "execute_result",
          "data": {
            "text/plain": [
              "2.333333333333333"
            ]
          },
          "metadata": {},
          "execution_count": 2
        }
      ],
      "source": [
        "def calcular_costo(X, y, theta):\n",
        "    \"\"\"\n",
        "    Calcular el costo para la regresión lineal utilizando la fórmula de la función de costo.\n",
        "    Argumentos:\n",
        "    X : array con forma (m x n+1), donde m es el número de ejemplos y n es el número de características.\n",
        "        Se asume que la primera columna de X son unos para el término de intercepción.\n",
        "    y : array con forma (m,), donde m es el número de ejemplos.\n",
        "    theta : array con forma (n+1,), donde n es el número de características.\n",
        "    Retorna:\n",
        "    J : float, el costo.\n",
        "    \"\"\"\n",
        "    m = len(y) # número de ejemplos de entrenamiento\n",
        "    predicciones = X.dot(theta)\n",
        "    errores_cuadrados = (predicciones - y) ** 2\n",
        "    J = (1 / (2 * m)) * np.sum(errores_cuadrados)\n",
        "\n",
        "    return J\n",
        "\n",
        "# Uso del ejemplo:\n",
        "# Supongamos que tenemos una característica y nuestro theta tiene dos valores (theta0 y theta1)\n",
        "# X tendría la forma [m, 2] debido al término de intercepción (columna de unos)\n",
        "# y tendría la forma [m,]\n",
        "\n",
        "# Datos de ejemplo (vamos a crear algunos para la demostración)\n",
        "X_ejemplo = np.array([[1, 1], [1, 2], [1, 3]])  # Añadiendo una columna de unos para el término de intercepción\n",
        "y_ejemplo = np.array([2, 4, 6])\n",
        "theta_ejemplo = np.array([0, 1])  # Solo un conjunto de parámetros de ejemplo\n",
        "\n",
        "# Ahora calculamos el costo con nuestros datos de ejemplo\n",
        "costo_ejemplo = calcular_costo(X_ejemplo, y_ejemplo, theta_ejemplo)\n",
        "costo_ejemplo\n",
        "\n"
      ]
    },
    {
      "cell_type": "markdown",
      "id": "b0f9f422",
      "metadata": {
        "id": "b0f9f422"
      },
      "source": [
        "### Paso 2: Calcular la Predicción para Cada Ejemplo\n",
        "\n",
        "Este código añade la lógica para calcular la predicción de cada ejemplo de entrenamiento:\n",
        "\n",
        "- Utiliza un bucle `for` para iterar sobre cada ejemplo en `x`.\n",
        "- Dentro de este bucle, usa otro bucle `for` para iterar sobre cada característica y su correspondiente coeficiente en `theta`, calculando así la predicción del modelo para ese ejemplo.\n",
        "- Calcula el error cuadrático para cada ejemplo y lo suma a `total_error`.\n"
      ]
    },
    {
      "cell_type": "code",
      "execution_count": null,
      "id": "38a730a6",
      "metadata": {
        "id": "38a730a6"
      },
      "outputs": [],
      "source": [
        "def cost_function_non_vectorized(x, y, theta):\n",
        "    m = len(y)\n",
        "    total_error = 0\n",
        "\n",
        "    for i in range(m):  # Iterar sobre cada ejemplo de entrenamiento\n",
        "        predicted_value = 0\n",
        "        for j in range(len(theta)):  # Calcular la predicción para el i-ésimo ejemplo\n",
        "            predicted_value += theta[j] * x[i][j]\n",
        "\n",
        "        error = (predicted_value - y[i]) ** 2  # Calcular el error cuadrático\n",
        "        total_error += error  # Sumar el error al total\n",
        "\n",
        "    return total_error / (2 * m)\n"
      ]
    },
    {
      "cell_type": "markdown",
      "id": "76ef0536",
      "metadata": {
        "id": "76ef0536"
      },
      "source": [
        "### Paso 3: Finalizar la Función y Retornar el Coste\n",
        "\n",
        "Este código representa la función completa, incluyendo el cálculo final del coste:\n",
        "\n",
        "- La estructura básica y el cálculo de la predicción para cada ejemplo ya están incluidos.\n",
        "- La última línea calcula y retorna el coste promediado sobre todos los ejemplos.\n"
      ]
    },
    {
      "cell_type": "code",
      "execution_count": null,
      "id": "376b8569",
      "metadata": {
        "id": "376b8569"
      },
      "outputs": [],
      "source": [
        "def cost_function_non_vectorized(x, y, theta):\n",
        "    m = len(y)\n",
        "    total_error = 0\n",
        "\n",
        "    for i in range(m):\n",
        "        predicted_value = 0\n",
        "        for j in range(len(theta)):\n",
        "            predicted_value += theta[j] * x[i][j]\n",
        "\n",
        "        error = (predicted_value - y[i]) ** 2\n",
        "        total_error += error\n",
        "\n",
        "    return total_error / (2 * m)\n"
      ]
    },
    {
      "cell_type": "markdown",
      "id": "275886fc",
      "metadata": {
        "id": "275886fc"
      },
      "source": [
        "### Implementación según plantilla proporcionada"
      ]
    },
    {
      "cell_type": "code",
      "execution_count": null,
      "id": "ce9d0283-b875-438b-87ee-1ad05f888057",
      "metadata": {
        "id": "ce9d0283-b875-438b-87ee-1ad05f888057"
      },
      "outputs": [],
      "source": [
        "# TODO: Implementa la función de coste no vectorizada siguiendo la siguiente plantilla\n",
        "\n",
        "def cost_function_non_vectorized(x, y, theta):\n",
        "    \"\"\" Computa la función de coste para el dataset y coeficientes considerados.\n",
        "\n",
        "    Argumentos posicionales:\n",
        "    x -- array 2D de Numpy con los valores de las variables independientes de los ejemplos, de tamaño m x n.\n",
        "    y -- array 1D de Numpy con la variable dependiente/objetivo, de tamaño m x 1\n",
        "    theta -- array 1D de Numpy con los pesos de los coeficientes del modelo, de tamaño 1 x n (vector fila)\n",
        "\n",
        "    Devuelve:\n",
        "    j -- float con el coste para dicho array theta\n",
        "    \"\"\"\n",
        "    m = len(y)  # Número de ejemplos de entrenamiento\n",
        "    total_error = 0\n",
        "\n",
        "    # Iterar sobre cada ejemplo de entrenamiento\n",
        "    for i in range(m):\n",
        "        predicted_value = 0\n",
        "        # Calcular la predicción para el i-ésimo ejemplo\n",
        "        for j in range(len(theta)):\n",
        "            predicted_value += theta[j] * x[i][j]\n",
        "\n",
        "        # Calcular el error cuadrático para el i-ésimo ejemplo\n",
        "        error = (predicted_value - y[i]) ** 2\n",
        "        total_error += error\n",
        "\n",
        "    # Calcular el coste total\n",
        "    j = total_error / (2 * m)\n",
        "\n",
        "    return j"
      ]
    },
    {
      "cell_type": "markdown",
      "id": "7343d92e-593c-4d08-b53c-fd87a8ea63be",
      "metadata": {
        "id": "7343d92e-593c-4d08-b53c-fd87a8ea63be"
      },
      "source": [
        "## Tarea 2: Comprueba tu implementación\n",
        "\n",
        "Para comprobar tu implementación, rescata tu código del notebook anterior acerca de datasets sintéticos para regresión lineal multivariable y utilízalos para generar un dataset en la siguiente celda:"
      ]
    },
    {
      "cell_type": "markdown",
      "id": "1cf59ac0",
      "metadata": {
        "id": "1cf59ac0"
      },
      "source": [
        "# AQUI EMPEZAMOS CON LA TAREA 2 DEL EJERCICIO 1"
      ]
    },
    {
      "cell_type": "markdown",
      "id": "0aac3f47",
      "metadata": {
        "id": "0aac3f47"
      },
      "source": [
        "### Generación de un Dataset Sintético para Regresión Lineal Multivariable\n",
        "\n",
        "En esta sección, vamos a generar un dataset sintético que utilizaremos para comprobar nuestra implementación de la función de coste. El dataset incluirá un término de error para simular datos reales más de cerca.\n",
        "\n",
        "- `m`: Número de ejemplos en el dataset.\n",
        "- `n`: Número de características por ejemplo.\n",
        "- `e`: Magnitud del término de error añadido a `Y`.\n",
        "\n",
        "Usamos Numpy para generar valores aleatorios para `X` y `Theta_verd`, y luego calculamos `Y` utilizando estos valores con un término de error añadido. Finalmente, comprobamos y mostramos los valores y dimensiones de `X`, `Y` y `Theta_verd`.\n"
      ]
    },
    {
      "cell_type": "code",
      "execution_count": null,
      "id": "1fb29b26",
      "metadata": {
        "id": "1fb29b26",
        "outputId": "78fdaec7-5e6f-4aca-bfa9-6cf311035bd9"
      },
      "outputs": [
        {
          "name": "stdout",
          "output_type": "stream",
          "text": [
            "Theta real a estimar: [0.8849904  0.31553503 0.77674209]\n",
            "\n",
            "Primeras 10 filas y 5 columnas de X e Y:\n",
            "X: [[0.93647781 0.67629265 0.0863504 ]\n",
            " [0.17409125 0.12178217 0.29664099]\n",
            " [0.49455911 0.96336206 0.06760742]\n",
            " [0.59332632 0.18842713 0.3861471 ]\n",
            " [0.51822392 0.25150457 0.02195966]\n",
            " [0.18542588 0.30176933 0.96414522]\n",
            " [0.60160002 0.17834714 0.50661429]\n",
            " [0.54742644 0.600955   0.05313901]\n",
            " [0.43165565 0.76865501 0.5550893 ]\n",
            " [0.37249118 0.45358611 0.90094502]]\n",
            "Y: [1.40984193 0.67365754 0.57925765 0.27153087 0.24617547 1.61296099\n",
            " 0.83105529 1.30754864 0.64282236 1.19932497]\n",
            "\n",
            "Dimensiones de X e Y:\n",
            "X shape: (100, 3)\n",
            "Y shape: (100,)\n"
          ]
        }
      ],
      "source": [
        "import numpy as np\n",
        "\n",
        "# Definir el número de ejemplos y características\n",
        "m = 100  # Número de ejemplos\n",
        "n = 3    # Número de características\n",
        "e = 0.5  # Magnitud del término de error\n",
        "\n",
        "# Generar valores aleatorios para X y Theta_verd\n",
        "X = np.random.rand(m, n)\n",
        "Theta_verd = np.random.rand(n)\n",
        "\n",
        "# Generar valores para Y con un término de error\n",
        "Y = X.dot(Theta_verd) + np.random.normal(0, e, m)\n",
        "\n",
        "# Comprueba los valores y dimensiones (forma o \"shape\") de los vectores\n",
        "print('Theta real a estimar:', Theta_verd)\n",
        "print('\\nPrimeras 10 filas y 5 columnas de X e Y:')\n",
        "print('X:', X[:10, :5])\n",
        "print('Y:', Y[:10])\n",
        "print('\\nDimensiones de X e Y:')\n",
        "print('X shape:', X.shape)\n",
        "print('Y shape:', Y.shape)\n"
      ]
    },
    {
      "cell_type": "markdown",
      "id": "0657b0ba-9003-4b37-b090-501fdda7e751",
      "metadata": {
        "id": "0657b0ba-9003-4b37-b090-501fdda7e751"
      },
      "source": [
        "Ahora vamos a comprobar tu implementación de la función de coste en las siguientes celdas.\n",
        "\n",
        "Recuerda que la función de coste representa el \"error\" de tu modelo, el sumatorio de los cuadrados de los resíduos del mismo.\n",
        "\n",
        "Por ello, la función de coste tiene las siguientes características:\n",
        "- No tiene unidades, por lo que no podemos saber si su valor es \"demasiado alto o bajo\", simplemente comparar los costes de dos modelos (conjuntos de $\\Theta$) diferentes\n",
        "- Tiene un valor de 0 para la $\\Theta$ teóricamente óptima\n",
        "- Sus valores siempre son positivos\n",
        "- Tiene un valor más alto cuanto más se aleja la $\\Theta$ utilizada de la $\\Theta$ óptima\n",
        "- Su valor crece con el cuadrado de los residuos del modelo\n",
        "\n",
        "Por lo tanto, utiliza la siguiente celda para comprobar la implementación de tu función con diferentes $\\Theta$, corrigiendo tu función si es necesario. Comprueba que:\n",
        "1. Si la $\\Theta$ es igual que la $\\Theta_{verd}$ (obtenida al definir el dataset), el coste es 0\n",
        "1. Si la $\\Theta$ es distinta que la $\\Theta_{verd}$, el coste es distinto a 0 y positivo\n",
        "1. Cuanto más alejada está la $\\Theta$ de la $\\Theta_{verd}$, mayor es el coste (compruébalo con 3 $\\Theta$ diferentes a $\\Theta_{verd}$, en orden de menor a mayor)\n",
        "\n",
        "*Nota:* Para ello, utiliza la misma celda, modificando sus variables varias veces."
      ]
    },
    {
      "cell_type": "markdown",
      "id": "3abd99bc",
      "metadata": {
        "id": "3abd99bc"
      },
      "source": [
        "### Comprobación de la Implementación de la Función de Coste\n",
        "\n",
        "Para validar nuestra implementación de la función de coste, realizaremos pruebas con diferentes valores de `theta` y observaremos cómo varía el coste. Esto nos ayudará a confirmar si la función se comporta como se espera bajo diferentes condiciones.\n",
        "\n",
        "- **Escenario 1:** Usamos `Theta_verd` para calcular el coste. Esperamos un valor de coste bajo, ya que `Theta_verd` fue usado para generar `Y`.\n",
        "- **Escenario 2:** Modificamos ligeramente `Theta_verd` y calculamos el coste. Esperamos un valor de coste más alto que en el Escenario 1, pero aún razonablemente bajo.\n",
        "- **Escenario 3:** Usamos un valor de `theta` significativamente diferente de `Theta_verd` y calculamos el coste. Aquí, esperamos un valor de coste considerablemente más alto, indicando un peor ajuste del modelo a los datos.\n"
      ]
    },
    {
      "cell_type": "code",
      "execution_count": null,
      "id": "5b0c3496-d5d4-4370-9d16-8f6dce079397",
      "metadata": {
        "id": "5b0c3496-d5d4-4370-9d16-8f6dce079397",
        "outputId": "997b894c-82d3-46ca-eef1-a90d0e4f1095"
      },
      "outputs": [
        {
          "name": "stdout",
          "output_type": "stream",
          "text": [
            "Coste del modelo:\n",
            "0.0877398792505858\n",
            "Theta comprobado y Theta real:\n",
            "[0.8849904  0.31553503 0.77674209]\n",
            "[0.8849904  0.31553503 0.77674209]\n"
          ]
        }
      ],
      "source": [
        "#TODO: Comprueba la implementación de tu función de coste\n",
        "\n",
        "theta = Theta_verd    # Modifica y comprueba varios valores de theta\n",
        "\n",
        "j = cost_function_non_vectorized(X, Y, theta)\n",
        "\n",
        "print('Coste del modelo:')\n",
        "print(j)\n",
        "print('Theta comprobado y Theta real:')\n",
        "print(theta)\n",
        "print(Theta_verd)"
      ]
    },
    {
      "cell_type": "code",
      "execution_count": null,
      "id": "c03df1a4",
      "metadata": {
        "id": "c03df1a4",
        "outputId": "bd432e1c-0775-4333-b2e0-61108e6eda3a"
      },
      "outputs": [
        {
          "name": "stdout",
          "output_type": "stream",
          "text": [
            "Coste con Theta igual a Theta_verd: 0.0877398792505858\n",
            "Coste con Theta ligeramente diferente de Theta_verd: 0.09060269125410927\n",
            "Coste con Theta significativamente diferente de Theta_verd: 0.6735795395508286\n"
          ]
        }
      ],
      "source": [
        "# Escenario 1: Theta es igual a Theta_verd\n",
        "theta = Theta_verd\n",
        "j = cost_function_non_vectorized(X, Y, theta)\n",
        "print('Coste con Theta igual a Theta_verd:', j)\n",
        "\n",
        "# Escenario 2: Theta es ligeramente diferente de Theta_verd\n",
        "theta = Theta_verd + np.array([0.1, 0, -0.1])\n",
        "j = cost_function_non_vectorized(X, Y, theta)\n",
        "print('Coste con Theta ligeramente diferente de Theta_verd:', j)\n",
        "\n",
        "# Escenario 3: Theta es significativamente diferente de Theta_verd\n",
        "theta = Theta_verd * 2\n",
        "j = cost_function_non_vectorized(X, Y, theta)\n",
        "print('Coste con Theta significativamente diferente de Theta_verd:', j)\n"
      ]
    },
    {
      "cell_type": "markdown",
      "id": "e49eab48-7d31-427f-98f3-116b409e819b",
      "metadata": {
        "id": "e49eab48-7d31-427f-98f3-116b409e819b"
      },
      "source": [
        "## Tarea 3: Vectorizar la función de coste\n",
        "\n",
        "Ahora vamos a implementar una nueva función de coste, pero en esta ocasión vectorizada.\n",
        "\n",
        "Una función vectorizada es aquella que se realiza en base a operaciones de álgebra lineal, en lugar de p. ej. los bucles for utilizados en la primera función, y por tanto su computación es mucho más rápida y eficiente, más aún si se realiza en GPUs o procesadores especializados.\n",
        "\n",
        "Implementa de nuevo la función de coste, pero esta vez utilizando exclusivamente las operaciones de álgebra lineal para operar con vectores/arrays de Numpy.\n",
        "\n",
        "Consejos:\n",
        "- Comprueba las dimensiones del resultado de cada operación o paso intermedio una a una si lo necesitas\n",
        "- Intenta implementar la ecuación con el mínimo número de operaciones posibles, sin bucles ni iteraciones\n",
        "- Utiliza funciones como [numpy.matmul()](https://numpy.org/doc/stable/reference/generated/numpy.matmul.html) o numpy.sum().\n",
        "- Utiliza ndarray.reshape() para *theta* si te da algún problema en la multiplicación matricial, para conseguir un vector ndarray 2D (n+1, 1) en lugar de un 1D (n+1,)\n",
        "- Asegúrate de devolver un valor *j* float, no un ndarray 2D con 1 solo elemento. Extráelo con sus índices si es necesario."
      ]
    },
    {
      "cell_type": "markdown",
      "id": "72254ef2",
      "metadata": {
        "id": "72254ef2"
      },
      "source": [
        "# AQUI EMPEZAMOS CON LA TAREA 3 DEL EJERCICIO 1"
      ]
    },
    {
      "cell_type": "markdown",
      "id": "19650ac4",
      "metadata": {
        "id": "19650ac4"
      },
      "source": [
        "### Implementación de la Función de Coste Vectorizada\n",
        "\n",
        "En esta sección, implementamos una versión vectorizada de la función de coste. A diferencia de la versión no vectorizada, esta implementación utiliza operaciones de álgebra lineal para realizar los cálculos de manera más eficiente.\n",
        "\n",
        "- Utilizamos `np.dot()` para calcular el producto de matrices (o vectores).\n",
        "- Evitamos bucles `for` y usamos operaciones sobre todo el array para calcular el coste.\n",
        "- Finalmente, convertimos el resultado en un valor escalar usando `.item()`, asegurando que el valor devuelto sea de tipo `float`.\n",
        "\n",
        "Esta versión de la función es más eficiente y es la forma preferida de implementar este tipo de cálculos en aplicaciones de aprendizaje automático, especialmente cuando se trabaja con grandes volúmenes de datos.\n"
      ]
    },
    {
      "cell_type": "markdown",
      "id": "efaed5c9",
      "metadata": {
        "id": "efaed5c9"
      },
      "source": [
        "### Prueba de la Función de Coste No Vectorizada\n",
        "\n",
        "Ahora que hemos implementado nuestra función de coste, es importante probarla para asegurarnos de que funciona correctamente. Para hacer esto, crearemos un pequeño conjunto de datos de prueba y utilizaremos estos datos para calcular el coste.\n",
        "\n",
        "- **Datos de Prueba:** Crearemos un conjunto simple de datos `x_test` y `y_test`, junto con un vector inicial de coeficientes `theta_test`.\n",
        "- **Llamada a la Función:** Utilizaremos estos datos de prueba para llamar a la función `cost_function_non_vectorized` y calcular el coste.\n",
        "- **Resultado:** Imprimiremos el resultado para verificar si la función está calculando el coste como se espera.\n"
      ]
    },
    {
      "cell_type": "code",
      "execution_count": null,
      "id": "1477c40f",
      "metadata": {
        "id": "1477c40f"
      },
      "outputs": [],
      "source": [
        "def cost_function_vectorized(x, y, theta):\n",
        "    \"\"\" Computa la función de coste para el dataset y coeficientes considerados.\n",
        "\n",
        "    Argumentos posicionales:\n",
        "    x -- array 2D de Numpy con los valores de las variables independientes de los ejemplos, de tamaño m x n\n",
        "    y -- array 1D de Numpy con la variable dependiente/objetivo, de tamaño m x 1\n",
        "    theta -- array 1D de Numpy con los pesos de los coeficientes del modelo, de tamaño 1 x n (vector fila)\n",
        "\n",
        "    Devuelve:\n",
        "    j -- float con el coste para dicho array theta\n",
        "    \"\"\"\n",
        "    m = len(y)\n",
        "\n",
        "    # Calculo de h_theta(X) = X * theta\n",
        "    predictions = np.dot(x, theta)\n",
        "\n",
        "    # Calculo del error (predicciones - y)\n",
        "    error = predictions - y\n",
        "\n",
        "    # Calculo del coste (error cuadrático)\n",
        "    j = (1 / (2 * m)) * np.dot(error.T, error)\n",
        "\n",
        "    return j.item()  # Convertir el resultado en un valor escalar (float)\n"
      ]
    },
    {
      "cell_type": "code",
      "execution_count": null,
      "id": "cfddeacd",
      "metadata": {
        "id": "cfddeacd",
        "outputId": "c42fef1c-1f37-4a81-d9a4-c0a0793158f0"
      },
      "outputs": [
        {
          "name": "stdout",
          "output_type": "stream",
          "text": [
            "El coste calculado es: 0.6875\n"
          ]
        }
      ],
      "source": [
        "x_test = [[1, 2], [1, 3], [1, 4], [1, 5]]  # Añadimos un 1 al inicio de cada ejemplo para el término independiente\n",
        "y_test = [3, 6, 7, 10]\n",
        "theta_test = [0.5, 1.5]\n",
        "\n",
        "# Llamada a la función con datos de prueba\n",
        "coste = cost_function_non_vectorized(x_test, y_test, theta_test)\n",
        "\n",
        "# Imprimir el resultado\n",
        "print(\"El coste calculado es:\", coste)"
      ]
    },
    {
      "cell_type": "markdown",
      "id": "0cb236d2-fc70-4696-b31e-6d5aa54ec4f0",
      "metadata": {
        "id": "0cb236d2-fc70-4696-b31e-6d5aa54ec4f0"
      },
      "source": [
        "Por último, vuelve a la tarea 2 y repite los mismos pasos para comprobar ahora tu función vectorizada."
      ]
    },
    {
      "cell_type": "markdown",
      "id": "ea600eee",
      "metadata": {
        "id": "ea600eee"
      },
      "source": [
        "### Comprobación de la Implementación de la Función de Coste Vectorizada\n",
        "\n",
        "Al igual que en la tarea anterior, vamos a validar la implementación de nuestra función de coste vectorizada realizando pruebas con diferentes valores de `theta`. Estas comprobaciones nos ayudarán a confirmar si la función vectorizada se comporta como se espera bajo diferentes condiciones.\n",
        "\n",
        "- **Escenario 1:** Usamos `Theta_verd` para calcular el coste con la función vectorizada. Esperamos un valor de coste bajo.\n",
        "- **Escenario 2:** Modificamos ligeramente `Theta_verd` y calculamos el coste con la función vectorizada. Esperamos un valor de coste más alto que en el Escenario 1, pero aún razonablemente bajo.\n",
        "- **Escenario 3:** Usamos un valor de `theta` significativamente diferente de `Theta_verd` y calculamos el coste con la función vectorizada. Aquí, esperamos un valor de coste considerablemente más alto.\n"
      ]
    },
    {
      "cell_type": "code",
      "execution_count": null,
      "id": "538ddc89",
      "metadata": {
        "id": "538ddc89",
        "outputId": "9c686e81-90bb-4e5a-80d5-94aa03bfafcb"
      },
      "outputs": [
        {
          "name": "stdout",
          "output_type": "stream",
          "text": [
            "Coste con Theta igual a Theta_verd (función vectorizada): 0.08773987925058578\n",
            "Coste con Theta ligeramente diferente de Theta_verd (función vectorizada): 0.09060269125410927\n",
            "Coste con Theta significativamente diferente de Theta_verd (función vectorizada): 0.6735795395508284\n"
          ]
        }
      ],
      "source": [
        "# Escenario 1: Theta es igual a Theta_verd\n",
        "theta = Theta_verd\n",
        "j = cost_function_vectorized(X, Y, theta)\n",
        "print('Coste con Theta igual a Theta_verd (función vectorizada):', j)\n",
        "\n",
        "# Escenario 2: Theta es ligeramente diferente de Theta_verd\n",
        "theta = Theta_verd + np.array([0.1, 0, -0.1])\n",
        "j = cost_function_vectorized(X, Y, theta)\n",
        "print('Coste con Theta ligeramente diferente de Theta_verd (función vectorizada):', j)\n",
        "\n",
        "# Escenario 3: Theta es significativamente diferente de Theta_verd\n",
        "theta = Theta_verd * 2\n",
        "j = cost_function_vectorized(X, Y, theta)\n",
        "print('Coste con Theta significativamente diferente de Theta_verd (función vectorizada):', j)\n"
      ]
    },
    {
      "cell_type": "markdown",
      "id": "e480f043",
      "metadata": {
        "id": "e480f043"
      },
      "source": [
        "# PRINCIPALES CONCLUSIONES\n",
        "\n",
        "\n",
        "## Tarea 1: Implementación de la Función de Coste No Vectorizada\n",
        "\n",
        "**Lo que Hicimos:**\n",
        "- Implementamos una función de coste para regresión lineal multivariable utilizando bucles `for` en Python. Esta función calcula el coste o error de un conjunto de predicciones de un modelo de regresión lineal en comparación con los valores reales.\n",
        "\n",
        "**Para Qué Sirvió:**\n",
        "- Esta tarea sirvió para entender cómo se calcula el error en un modelo de regresión lineal y cómo se pueden utilizar estructuras básicas de programación (como bucles `for`) para realizar cálculos matemáticos complejos.\n",
        "- Nos proporcionó una comprensión fundamental de cómo las operaciones matemáticas se traducen en código y cómo las decisiones de programación afectan el rendimiento y la claridad del código.\n",
        "\n",
        "**Potencial Uso Futuro:**\n",
        "- Esta comprensión básica es crucial para la depuración y el análisis detallado de modelos más complejos en el futuro.\n",
        "- Te prepara para entender y modificar algoritmos de aprendizaje automático más avanzados, donde a menudo es necesario desglosar y entender procesos complejos.\n",
        "\n",
        "## Tarea 2: Comprobación de la Función de Coste No Vectorizada\n",
        "\n",
        "**Lo que Hicimos:**\n",
        "- Generamos un dataset sintético y utilizamos la función de coste no vectorizada para calcular el coste con diferentes conjuntos de parámetros `theta`.\n",
        "- Comprobamos cómo el coste varía en función de los cambios en los parámetros del modelo.\n",
        "\n",
        "**Para Qué Sirvió:**\n",
        "- Esta tarea nos ayudó a entender cómo los cambios en los parámetros del modelo afectan el rendimiento del modelo, medido a través del coste.\n",
        "- Nos permitió ver la importancia de la selección de parámetros en los modelos de regresión y cómo un modelo bien ajustado minimiza el coste.\n",
        "\n",
        "**Potencial Uso Futuro:**\n",
        "- Las habilidades aprendidas aquí son directamente aplicables al ajuste y evaluación de modelos en aprendizaje automático.\n",
        "- La capacidad de generar y trabajar con datasets sintéticos es útil para probar y validar algoritmos antes de aplicarlos a datos reales.\n",
        "\n",
        "## Tarea 3: Implementación de la Función de Coste Vectorizada\n",
        "\n",
        "**Lo que Hicimos:**\n",
        "- Reimplementamos la función de coste utilizando operaciones de álgebra lineal de Numpy, lo que hizo que la función fuera mucho más eficiente.\n",
        "- Probamos esta función vectorizada con los mismos datasets sintéticos para asegurarnos de que proporcionaba resultados consistentes.\n",
        "\n",
        "**Para Qué Sirvió:**\n",
        "- Esta tarea destacó la importancia y eficiencia de las operaciones vectorizadas en Python, especialmente cuando se trata de grandes conjuntos de datos.\n",
        "- Nos mostró cómo la vectorización puede hacer que el código sea más conciso, más legible y significativamente más rápido.\n",
        "\n",
        "**Potencial Uso Futuro:**\n",
        "- Las habilidades de vectorización son esenciales en el campo del aprendizaje automático y la ciencia de datos, donde el manejo eficiente de grandes volúmenes de datos es crucial.\n",
        "- Esta comprensión nos ayudará a escribir código más eficiente y a utilizar bibliotecas de Python de manera más efectiva para el análisis de datos y el aprendizaje automático.\n",
        "\n",
        "## Conclusión General\n",
        "\n",
        "Estas tareas nos han proporcionado una base sólida en algunos de los aspectos fundamentales del aprendizaje automático: implementación de funciones matemáticas en código, comprensión de la importancia de la eficiencia computacional y vectorización, y cómo diferentes parámetros afectan el rendimiento de un modelo. Estas habilidades son transferibles a una amplia gama de problemas en la ciencia de datos y el aprendizaje automático, y nos servirán bien en futuros proyectos y estudios en este campo.\n"
      ]
    }
  ],
  "metadata": {
    "environment": {
      "kernel": "python3",
      "name": "common-cpu.m87",
      "type": "gcloud",
      "uri": "gcr.io/deeplearning-platform-release/base-cpu:m87"
    },
    "kernelspec": {
      "display_name": "Python 3 (ipykernel)",
      "language": "python",
      "name": "python3"
    },
    "language_info": {
      "codemirror_mode": {
        "name": "ipython",
        "version": 3
      },
      "file_extension": ".py",
      "mimetype": "text/x-python",
      "name": "python",
      "nbconvert_exporter": "python",
      "pygments_lexer": "ipython3",
      "version": "3.9.18"
    },
    "colab": {
      "provenance": [],
      "include_colab_link": true
    }
  },
  "nbformat": 4,
  "nbformat_minor": 5
}